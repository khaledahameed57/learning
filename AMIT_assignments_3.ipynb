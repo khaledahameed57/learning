{
 "cells": [
  {
   "cell_type": "code",
   "execution_count": 16,
   "id": "333da880-b9fc-40b5-8295-299618a74e12",
   "metadata": {},
   "outputs": [
    {
     "name": "stdout",
     "output_type": "stream",
     "text": [
      "unique words {'hany', 'ahmad', 'may', 'aly', 'mariam'}\n",
      "frequency 5\n"
     ]
    }
   ],
   "source": [
    "# Write a Python program to find all the unique words and count the frequency of\n",
    "# occurrence from a given list of strings.\n",
    "glist= ['aly', 'ahmad', 'mariam', 'may', 'hany', 'aly', 'may']\n",
    "\n",
    "def func1 ():\n",
    "    gset= set(glist)\n",
    "    print('unique words', gset)\n",
    "    print('frequency',len(gset))   \n",
    "func1()\n"
   ]
  },
  {
   "cell_type": "code",
   "execution_count": null,
   "id": "d6727558-01bd-49a1-907f-da3a3d1690cb",
   "metadata": {},
   "outputs": [],
   "source": []
  }
 ],
 "metadata": {
  "kernelspec": {
   "display_name": "Python 3 (ipykernel)",
   "language": "python",
   "name": "python3"
  },
  "language_info": {
   "codemirror_mode": {
    "name": "ipython",
    "version": 3
   },
   "file_extension": ".py",
   "mimetype": "text/x-python",
   "name": "python",
   "nbconvert_exporter": "python",
   "pygments_lexer": "ipython3",
   "version": "3.11.7"
  }
 },
 "nbformat": 4,
 "nbformat_minor": 5
}
