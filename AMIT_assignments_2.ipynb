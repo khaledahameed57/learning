{
 "cells": [
  {
   "cell_type": "code",
   "execution_count": 4,
   "metadata": {
    "id": "Ui8LKXjlii3V"
   },
   "outputs": [
    {
     "name": "stdout",
     "output_type": "stream",
     "text": [
      "n1 is maximum\n"
     ]
    }
   ],
   "source": [
    "### 1) Write a program to print the maximum between two numbers. (one-line conditional statement)\n",
    "n1=7\n",
    "n2=5\n",
    "print('n1 is maximum') if n1>n2 else (print('n2 is maximum') if n2>n1 else print('eual'))"
   ]
  },
  {
   "cell_type": "code",
   "execution_count": 12,
   "metadata": {
    "id": "xQB_yP4rirZS"
   },
   "outputs": [
    {
     "name": "stdout",
     "output_type": "stream",
     "text": [
      "n1 is maximum\n"
     ]
    }
   ],
   "source": [
    "### 2) Write a program to find the maximum between three numbers.\n",
    "n1=7\n",
    "n2=5\n",
    "n3=3\n",
    "if n1>=n2 & n1>= n3: \n",
    "    print('n1 is maximum') \n",
    "elif n2>=n1 & n2>= n3:\n",
    "        print('n2 is maximum') \n",
    "elif n3>=n1 & n3>= n2:\n",
    "        print('n3 is maximum') \n",
    "else:\n",
    "    print ('wrong')"
   ]
  },
  {
   "cell_type": "code",
   "execution_count": 15,
   "metadata": {
    "id": "di3xEq8mjBRK"
   },
   "outputs": [
    {
     "name": "stdout",
     "output_type": "stream",
     "text": [
      "number is negative\n"
     ]
    }
   ],
   "source": [
    "### 3) Write a program to check whether a number is negative, or positive (one-line conditional statement)\n",
    "n1=-2\n",
    "print('number is positive') if n1>0 else (print('number is negative'))"
   ]
  },
  {
   "cell_type": "code",
   "execution_count": 21,
   "metadata": {
    "id": "grc5Gk_RjFBe"
   },
   "outputs": [
    {
     "name": "stdout",
     "output_type": "stream",
     "text": [
      "4 is even\n"
     ]
    }
   ],
   "source": [
    "# 4) Write a  program to check whether a number is even or odd  (one-line statement).\n",
    "x=4\n",
    "result= \"even\"if x % 2 ==0 else \"odd\"\n",
    "print (x,'is', result)"
   ]
  },
  {
   "cell_type": "code",
   "execution_count": 26,
   "metadata": {
    "id": "-J3UtjpIjJPv"
   },
   "outputs": [
    {
     "name": "stdout",
     "output_type": "stream",
     "text": [
      "2024 is leap\n"
     ]
    }
   ],
   "source": [
    "###5) Write a  program to check whether a year is a leap year or not. (one-line conditional statement).\n",
    "year=2024\n",
    "result= \"leap\"if year % 4 ==0 else \"not\"\n",
    "print (year,'is', result)"
   ]
  },
  {
   "cell_type": "code",
   "execution_count": 1,
   "metadata": {
    "id": "JeN4yaIMjNlC"
   },
   "outputs": [
    {
     "name": "stdout",
     "output_type": "stream",
     "text": [
      "sunday\n"
     ]
    }
   ],
   "source": [
    "###6) Write a  program to store the weekdays in a list and access the week day and print it by index.\n",
    "weekdays=['satutday','sunday','monday','tuseday','wednesday','tursday','friday']\n",
    "print(weekdays[1])\n"
   ]
  },
  {
   "cell_type": "code",
   "execution_count": 31,
   "metadata": {
    "id": "ST7uKJmtjYh1"
   },
   "outputs": [
    {
     "name": "stdout",
     "output_type": "stream",
     "text": [
      "a\n",
      "b\n",
      "c\n",
      "d\n",
      "e\n",
      "f\n",
      "g\n",
      "h\n",
      "i\n",
      "j\n",
      "k\n",
      "l\n",
      "m\n",
      "n\n",
      "o\n",
      "p\n",
      "q\n",
      "r\n",
      "s\n",
      "t\n",
      "u\n",
      "v\n",
      "w\n",
      "x\n",
      "y\n",
      "z\n"
     ]
    }
   ],
   "source": [
    "###7) Write a  program to print all alphabets from a to z using while loop\n",
    "for x in \"abcdefghijklmnopqrstuvwxyz\":\n",
    "    print (x)"
   ]
  },
  {
   "cell_type": "code",
   "execution_count": null,
   "metadata": {
    "id": "PkPPTrivjran"
   },
   "outputs": [],
   "source": [
    "###8)Write a program to store numbers in the List and print its reverse\n",
    "list=[0,1,2,3,4,5]\n",
    "list1=list.reverse\n",
    "print list1"
   ]
  },
  {
   "cell_type": "code",
   "execution_count": 21,
   "metadata": {
    "id": "2JoHNIaCj7fR"
   },
   "outputs": [
    {
     "name": "stdin",
     "output_type": "stream",
     "text": [
      "input number 4\n"
     ]
    },
    {
     "name": "stdout",
     "output_type": "stream",
     "text": [
      "16\n",
      "12\n",
      "8\n",
      "4\n"
     ]
    }
   ],
   "source": [
    "### 9) Write a program to print the multiplcation table of any number\n",
    "n=int(input('input number')) \n",
    "x=n\n",
    "for i in range (n):\n",
    "    print(n*x)\n",
    "    x=x-1"
   ]
  },
  {
   "cell_type": "markdown",
   "metadata": {
    "id": "WTIX9yh1kLs-"
   },
   "source": [
    "###10)Write a program to print all even numbers between 1 to 100.(using while loop)"
   ]
  },
  {
   "cell_type": "code",
   "execution_count": null,
   "metadata": {
    "id": "i5fTGY3Qib9Y"
   },
   "outputs": [],
   "source": [
    "y=100\n",
    "while y>=2:\n",
    "    print(n)\n",
    "    y-=2         "
   ]
  },
  {
   "cell_type": "code",
   "execution_count": null,
   "metadata": {},
   "outputs": [],
   "source": []
  },
  {
   "cell_type": "code",
   "execution_count": null,
   "metadata": {},
   "outputs": [],
   "source": []
  }
 ],
 "metadata": {
  "colab": {
   "private_outputs": true,
   "provenance": []
  },
  "kernelspec": {
   "display_name": "Python 3 (ipykernel)",
   "language": "python",
   "name": "python3"
  },
  "language_info": {
   "codemirror_mode": {
    "name": "ipython",
    "version": 3
   },
   "file_extension": ".py",
   "mimetype": "text/x-python",
   "name": "python",
   "nbconvert_exporter": "python",
   "pygments_lexer": "ipython3",
   "version": "3.11.7"
  }
 },
 "nbformat": 4,
 "nbformat_minor": 4
}
