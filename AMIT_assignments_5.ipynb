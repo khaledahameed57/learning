{
 "cells": [
  {
   "cell_type": "code",
   "execution_count": 22,
   "id": "b9327bad-1e0c-4f8f-b9ac-267b456173c5",
   "metadata": {},
   "outputs": [
    {
     "ename": "AttributeError",
     "evalue": "'function' object has no attribute 'circle'",
     "output_type": "error",
     "traceback": [
      "\u001b[1;31m---------------------------------------------------------------------------\u001b[0m",
      "\u001b[1;31mAttributeError\u001b[0m                            Traceback (most recent call last)",
      "Cell \u001b[1;32mIn[22], line 36\u001b[0m\n\u001b[0;32m     33\u001b[0m     \u001b[38;5;28;01mdef\u001b[39;00m \u001b[38;5;21marea\u001b[39m(\u001b[38;5;28mself\u001b[39m):\n\u001b[0;32m     34\u001b[0m            \u001b[38;5;28;01mreturn\u001b[39;00m (\u001b[38;5;28mself\u001b[39m\u001b[38;5;241m.\u001b[39mradus\u001b[38;5;241m*\u001b[39m\u001b[38;5;241m*\u001b[39m\u001b[38;5;241m2\u001b[39m \u001b[38;5;241m*\u001b[39m \u001b[38;5;241m3.14\u001b[39m)\n\u001b[1;32m---> 36\u001b[0m sahpe\u001b[38;5;241m.\u001b[39marea\u001b[38;5;241m.\u001b[39mcircle(\u001b[38;5;241m5\u001b[39m)\n",
      "\u001b[1;31mAttributeError\u001b[0m: 'function' object has no attribute 'circle'"
     ]
    }
   ],
   "source": [
    "class sahpe():\n",
    "    def __init__(self,area,perimeter):\n",
    "        self.Aarea=Area\n",
    "        self.perimeter=perimeter\n",
    "    def area(self):\n",
    "        return  (self.Aarea)\n",
    "    def perimeter(self):\n",
    "        return (self.perimeter)\n",
    "   \n",
    "class rectangle(sahpe):\n",
    "    def __init__(self,length,width):\n",
    "        self.length=length\n",
    "        self.width=width\n",
    "    def perimeter(self):\n",
    "        return 2*(self.length+self.weidth)\n",
    "    def area(self):\n",
    "        return (self.length * self.weidth)\n",
    "class triangle(sahpe):\n",
    "    def __init__(self,base,hight, side1, side2):\n",
    "        self.base=base\n",
    "        self.hight=hight\n",
    "        self.side1=side1\n",
    "        self.side2=side2\n",
    "    def perimeter(self):\n",
    "            return 2*(self.base+self.side1+self.side2)\n",
    "    def area(self):\n",
    "            return (self.base * self.hight/2)\n",
    "class circle(sahpe):\n",
    "    def __init__(self,radus):\n",
    "      self.radus=radus  \n",
    "    def perimeter(self):\n",
    "            return (self.radus* 3.14)\n",
    "    def area(self):\n",
    "           return (self.radus**2 * 3.14)\n",
    "\n",
    "\n"
   ]
  },
  {
   "cell_type": "code",
   "execution_count": 7,
   "id": "f02252b9-993f-41d4-b722-6ad9f2f628bd",
   "metadata": {},
   "outputs": [
    {
     "name": "stdout",
     "output_type": "stream",
     "text": [
      "this person's name is Aly  and his age is 14\n"
     ]
    },
    {
     "data": {
      "text/plain": [
       "\"this person's name is Aly  his age is 14 and his secondary school is Masr Language School\""
      ]
     },
     "execution_count": 7,
     "metadata": {},
     "output_type": "execute_result"
    }
   ],
   "source": [
    "class person():\n",
    "    P_name=\"Aly\"\n",
    "    P_age=\"1\"\n",
    "    @classmethod\n",
    "    def classmethod(cls):\n",
    "        print(\"this person's name is {}  and his age is {}\".format(cls.P_name,cls.P_age))\n",
    "    def __init__(self,P_name,P_age):\n",
    "        self.name=P_name\n",
    "        self.age=P_age\n",
    "    def display(self):    \n",
    "        return \"this person's name is {} and his age is {} \".format(self.P_name,self.P_age)\n",
    "class student(person):\n",
    "    def __init__(self,name,age,school_name):\n",
    "        super().__init__(name,age)\n",
    "        self.school_name=school_name\n",
    "    def display2(self):\n",
    "        return \"this person's name is {}  his age is {} and his secondary school is {}\".format(self.P_name,self.P_age,self.school_name)\n",
    "person.classmethod()        \n",
    "aa=student(\"Mohamed\",\"15\",\"Masr Language School\")\n",
    "aa.display2()"
   ]
  },
  {
   "cell_type": "code",
   "execution_count": null,
   "id": "402bcf76-ff6b-4dde-b6bc-6bcf00efb8a4",
   "metadata": {},
   "outputs": [],
   "source": []
  }
 ],
 "metadata": {
  "kernelspec": {
   "display_name": "Python 3 (ipykernel)",
   "language": "python",
   "name": "python3"
  },
  "language_info": {
   "codemirror_mode": {
    "name": "ipython",
    "version": 3
   },
   "file_extension": ".py",
   "mimetype": "text/x-python",
   "name": "python",
   "nbconvert_exporter": "python",
   "pygments_lexer": "ipython3",
   "version": "3.11.7"
  }
 },
 "nbformat": 4,
 "nbformat_minor": 5
}
