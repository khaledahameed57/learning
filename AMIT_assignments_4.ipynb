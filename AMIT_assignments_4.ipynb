{
 "cells": [
  {
   "cell_type": "code",
   "execution_count": 8,
   "id": "a2c7ca4b-6520-44c1-bf9d-296bcab85c83",
   "metadata": {},
   "outputs": [
    {
     "name": "stdout",
     "output_type": "stream",
     "text": [
      "6\n",
      "-------------------\n",
      "7\n",
      "-------------------\n",
      "-2\n",
      "-------------------\n",
      "28\n",
      "10\n",
      "20\n",
      "30\n",
      "40\n",
      "50\n",
      "60\n",
      "70\n",
      "80\n",
      "90\n",
      "100\n",
      "-------------------\n"
     ]
    },
    {
     "data": {
      "text/plain": [
       "[1, 2, 5, 10]"
      ]
     },
     "execution_count": 8,
     "metadata": {},
     "output_type": "execute_result"
    }
   ],
   "source": [
    "class computation():\n",
    "    num_1=1\n",
    "    num_2=5\n",
    "    num_3=7\n",
    "    @classmethod\n",
    "    def add(cls):\n",
    "        return cls.num_1+cls.num_2\n",
    "    @classmethod\n",
    "    def multiple(cls):\n",
    "        return cls.num_1*cls.num_3\n",
    "    @classmethod\n",
    "    def sub(cls):\n",
    "        return cls.num_2-cls.num_3\n",
    "    def __init__(self,given_number):\n",
    "        self.given_number=given_number\n",
    "    def factorial(self):\n",
    "        factorial=1\n",
    "        count=1\n",
    "        while factorial<=self.given_number:\n",
    "            if self.given_number%factorial==0:\n",
    "                count+=1\n",
    "            if self.given_number%factorial==self.given_number:\n",
    "                count+=1\n",
    "            factorial+=1    \n",
    "        return count\n",
    "    def sum_method(self):\n",
    "        sum=0\n",
    "        for x in range(self.given_number+1):\n",
    "            sum+=x\n",
    "        print(sum)\n",
    "class calculation(computation):\n",
    "    def __init__(self,given_number):\n",
    "        super().__init__(given_number)\n",
    "    def prime_method(self):\n",
    "        count=0\n",
    "        for x in range(1,self.given_number+1):\n",
    "            if self.given_number/x==1:\n",
    "                count+=1\n",
    "            if self.given_number/x==self.given_number:\n",
    "                count+=1\n",
    "        return count \n",
    "    def mult_method(self):\n",
    "        mult=1\n",
    "        result=mult*self.given_number\n",
    "        while mult<=10:\n",
    "            result=mult*self.given_number \n",
    "            print(result)\n",
    "            mult+=1 \n",
    "    @staticmethod\n",
    "    def list_div(self):\n",
    "        new_list=[]\n",
    "        for x in range(1,self.given_number+1):\n",
    "            if self.given_number%x==0:\n",
    "                new_list.append(x)\n",
    "        return new_list\n",
    "\n",
    "print(computation.add())\n",
    "print('-------------------')\n",
    "print(computation.multiple())\n",
    "print('-------------------')\n",
    "print(computation.sub())\n",
    "print('-------------------')\n",
    "co=computation(7)\n",
    "co.factorial()\n",
    "co.sum_method()\n",
    "co=calculation(10)\n",
    "co.prime_method()\n",
    "co.mult_method()\n",
    "print('-------------------')\n",
    "calculation.list_div(co)"
   ]
  },
  {
   "cell_type": "code",
   "execution_count": null,
   "id": "78f11805-b302-4eb3-a160-896f32d637a0",
   "metadata": {},
   "outputs": [],
   "source": []
  }
 ],
 "metadata": {
  "kernelspec": {
   "display_name": "Python 3 (ipykernel)",
   "language": "python",
   "name": "python3"
  },
  "language_info": {
   "codemirror_mode": {
    "name": "ipython",
    "version": 3
   },
   "file_extension": ".py",
   "mimetype": "text/x-python",
   "name": "python",
   "nbconvert_exporter": "python",
   "pygments_lexer": "ipython3",
   "version": "3.11.7"
  }
 },
 "nbformat": 4,
 "nbformat_minor": 5
}
